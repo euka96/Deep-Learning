{
 "metadata": {
  "language_info": {
   "codemirror_mode": {
    "name": "ipython",
    "version": 3
   },
   "file_extension": ".py",
   "mimetype": "text/x-python",
   "name": "python",
   "nbconvert_exporter": "python",
   "pygments_lexer": "ipython3",
   "version": "3.8.5"
  },
  "orig_nbformat": 4,
  "kernelspec": {
   "name": "python3",
   "display_name": "Python 3.8.5 64-bit (conda)"
  },
  "interpreter": {
   "hash": "627b092653e21c8830a264ddb8797a7d90578993b10457a2a9a622cb89e3bc88"
  }
 },
 "nbformat": 4,
 "nbformat_minor": 2,
 "cells": [
  {
   "source": [
    "## Kakao translator"
   ],
   "cell_type": "markdown",
   "metadata": {}
  },
  {
   "cell_type": "code",
   "execution_count": 1,
   "metadata": {},
   "outputs": [],
   "source": [
    "import requests\n",
    "from urllib.parse import quote"
   ]
  },
  {
   "cell_type": "code",
   "execution_count": 2,
   "metadata": {},
   "outputs": [],
   "source": [
    "with open('kakao api.txt', mode = 'r') as key_file :\n",
    "    kakao = key_file.read()"
   ]
  },
  {
   "cell_type": "code",
   "execution_count": 50,
   "metadata": {},
   "outputs": [],
   "source": [
    "TEXT = '안녕하세요'\n",
    "ORG = 'kr'\n",
    "TRANS = 'en'"
   ]
  },
  {
   "cell_type": "code",
   "execution_count": 51,
   "metadata": {},
   "outputs": [],
   "source": [
    "text = TEXT"
   ]
  },
  {
   "cell_type": "code",
   "execution_count": 52,
   "metadata": {},
   "outputs": [
    {
     "output_type": "execute_result",
     "data": {
      "text/plain": [
       "'https://dapi.kakao.com/v2/translation/translate?src_lang=kr&target_lang=en&query=%EC%95%88%EB%85%95%ED%95%98%EC%84%B8%EC%9A%94'"
      ]
     },
     "metadata": {},
     "execution_count": 52
    }
   ],
   "source": [
    "trans_url = 'https://dapi.kakao.com/v2/translation/translate'\n",
    "url = f'{trans_url}?src_lang={ORG}&target_lang={TRANS}&query={quote(text)}'\n",
    "url"
   ]
  },
  {
   "cell_type": "code",
   "execution_count": 53,
   "metadata": {},
   "outputs": [
    {
     "output_type": "execute_result",
     "data": {
      "text/plain": [
       "{'translated_text': [['Hi!']]}"
      ]
     },
     "metadata": {},
     "execution_count": 53
    }
   ],
   "source": [
    "result = requests.get(url, headers = {'Authorization' : f'KakaoAK {kakao}'}).json()\n",
    "result"
   ]
  },
  {
   "cell_type": "code",
   "execution_count": 54,
   "metadata": {},
   "outputs": [
    {
     "output_type": "stream",
     "name": "stdout",
     "text": [
      "안녕하세요\nHi!\n"
     ]
    }
   ],
   "source": [
    "eng_text = result['translated_text'][0][0]\n",
    "print(text)\n",
    "print(eng_text)"
   ]
  },
  {
   "source": [
    "### Function for URL"
   ],
   "cell_type": "markdown",
   "metadata": {}
  },
  {
   "source": [
    "def generate_url(text, src, dst) :\n",
    "    trans_url = 'https://dapi.kakao.com/v2/translation/translate'\n",
    "    url = f'{trans_url}?src_lang={src}&target_lang={dst}&query={quote(text)}'\n",
    "    return url"
   ],
   "cell_type": "code",
   "metadata": {},
   "execution_count": 55,
   "outputs": []
  },
  {
   "cell_type": "code",
   "execution_count": 56,
   "metadata": {},
   "outputs": [
    {
     "output_type": "execute_result",
     "data": {
      "text/plain": [
       "{'translated_text': [['안녕']]}"
      ]
     },
     "metadata": {},
     "execution_count": 56
    }
   ],
   "source": [
    "result = requests.get(generate_url(eng_text, 'en', 'kr'),\n",
    "                        headers = {'Authorization' : f'KakaoAK {kakao}'}).json()\n",
    "result"
   ]
  },
  {
   "cell_type": "code",
   "execution_count": 58,
   "metadata": {},
   "outputs": [
    {
     "output_type": "stream",
     "name": "stdout",
     "text": [
      "안녕하세요\n안녕\n"
     ]
    }
   ],
   "source": [
    "ko_text = result['translated_text'][0][0]\n",
    "print(text)\n",
    "print(ko_text)"
   ]
  },
  {
   "source": [
    "#### Multi translation"
   ],
   "cell_type": "markdown",
   "metadata": {}
  },
  {
   "cell_type": "code",
   "execution_count": 61,
   "metadata": {},
   "outputs": [],
   "source": [
    "multi = \"\"\"\n",
    "집가고 싶어요\n",
    "피곤하다\n",
    "\"\"\""
   ]
  },
  {
   "cell_type": "code",
   "execution_count": 62,
   "metadata": {},
   "outputs": [
    {
     "output_type": "execute_result",
     "data": {
      "text/plain": [
       "{'translated_text': [['I want to go home'], ['be tired']]}"
      ]
     },
     "metadata": {},
     "execution_count": 62
    }
   ],
   "source": [
    "result = requests.get(generate_url(multi, 'kr', 'en'),\n",
    "                        headers = {'Authorization' : f'KakaoAK {kakao}'}).json()\n",
    "result"
   ]
  },
  {
   "cell_type": "code",
   "execution_count": 64,
   "metadata": {},
   "outputs": [
    {
     "output_type": "stream",
     "name": "stdout",
     "text": [
      "I want to go home\nbe tired\n"
     ]
    }
   ],
   "source": [
    "for i in result['translated_text'] :\n",
    "    print(i[0])"
   ]
  },
  {
   "cell_type": "code",
   "execution_count": 69,
   "metadata": {},
   "outputs": [
    {
     "output_type": "stream",
     "name": "stdout",
     "text": [
      "I want to go home\nbe tired\n"
     ]
    }
   ],
   "source": [
    "tr_text = '\\n'.join([i[0] for i in result['translated_text']])\n",
    "print(tr_text)"
   ]
  },
  {
   "cell_type": "code",
   "execution_count": 70,
   "metadata": {},
   "outputs": [
    {
     "output_type": "stream",
     "name": "stdout",
     "text": [
      "Je veux rentrer à la maison.\nêtre fatigué\n"
     ]
    }
   ],
   "source": [
    "result = requests.get(generate_url(tr_text, 'en', 'fr'),\n",
    "                        headers = {'Authorization' : f'KakaoAK {kakao}'}).json()\n",
    "tr_text = '\\n'.join([i[0] for i in result['translated_text']])\n",
    "print(tr_text)"
   ]
  }
 ]
}