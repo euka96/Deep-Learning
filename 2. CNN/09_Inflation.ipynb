{
 "metadata": {
  "language_info": {
   "codemirror_mode": {
    "name": "ipython",
    "version": 3
   },
   "file_extension": ".py",
   "mimetype": "text/x-python",
   "name": "python",
   "nbconvert_exporter": "python",
   "pygments_lexer": "ipython3",
   "version": "3.8.5"
  },
  "orig_nbformat": 4,
  "kernelspec": {
   "name": "python3",
   "display_name": "Python 3.8.5 64-bit (conda)"
  },
  "interpreter": {
   "hash": "627b092653e21c8830a264ddb8797a7d90578993b10457a2a9a622cb89e3bc88"
  }
 },
 "nbformat": 4,
 "nbformat_minor": 2,
 "cells": [
  {
   "source": [
    "## Circle, triangle and rectangle\n",
    "- Hard mode"
   ],
   "cell_type": "markdown",
   "metadata": {}
  },
  {
   "cell_type": "code",
   "execution_count": 10,
   "metadata": {},
   "outputs": [],
   "source": [
    "import numpy as np\n",
    "import pandas as pd\n",
    "import tensorflow as tf\n",
    "tf.autograph.set_verbosity(0)\n",
    "import logging\n",
    "logging.getLogger(\"tensorflow\").setLevel(logging.ERROR)\n",
    "\n",
    "seed = 2021\n",
    "np.random.seed(seed)\n",
    "tf.random.set_seed(seed)\n",
    "import warnings\n",
    "warnings.filterwarnings(action = 'ignore')"
   ]
  },
  {
   "source": [
    "### Creating dataset"
   ],
   "cell_type": "markdown",
   "metadata": {}
  },
  {
   "cell_type": "code",
   "execution_count": 11,
   "metadata": {},
   "outputs": [],
   "source": [
    "from tensorflow.keras.preprocessing.image import ImageDataGenerator\n",
    "train_datagen = ImageDataGenerator(rescale = 1 / 255,\n",
    "                                    rotation_range = 10,\n",
    "                                    width_shift_range = 0.2,\n",
    "                                    height_shift_range = 0.2,\n",
    "                                    shear_range = 0.7,\n",
    "                                    zoom_range = [0.9, 2.2],\n",
    "                                    horizontal_flip = True,\n",
    "                                    vertical_flip = True,\n",
    "                                    fill_mode = 'nearest')"
   ]
  },
  {
   "cell_type": "code",
   "execution_count": 12,
   "metadata": {},
   "outputs": [],
   "source": [
    "from tensorflow.keras.preprocessing.image import array_to_img, img_to_array, load_img\n",
    "image = load_img('handwriting/hard_handwriting_shape/train/triangle/triangle001.png')\n",
    "x = img_to_array(image)\n",
    "x = x.reshape((1, ) + x.shape)"
   ]
  },
  {
   "cell_type": "code",
   "execution_count": 13,
   "metadata": {},
   "outputs": [],
   "source": [
    "import os\n",
    "if not os.path.exists('preview') :\n",
    "    os.mkdir('preview')\n",
    "\n",
    "i = 0\n",
    "for batch in train_datagen.flow(x, batch_size = 1, save_to_dir = 'preview', save_prefix = 'tri', \n",
    "                                save_format = 'png') :\n",
    "    i += 1\n",
    "    if i > 20 :\n",
    "        break"
   ]
  },
  {
   "cell_type": "code",
   "execution_count": 14,
   "metadata": {},
   "outputs": [
    {
     "output_type": "stream",
     "name": "stdout",
     "text": [
      "Found 45 images belonging to 3 classes.\n"
     ]
    }
   ],
   "source": [
    "train_generator = train_datagen.flow_from_directory(\n",
    "    'handwriting/hard_handwriting_shape/train',\n",
    "    target_size = (24, 24),\n",
    "    batch_size = 3,\n",
    "    class_mode = 'categorical'\n",
    ")"
   ]
  },
  {
   "cell_type": "code",
   "execution_count": 15,
   "metadata": {},
   "outputs": [
    {
     "output_type": "stream",
     "name": "stdout",
     "text": [
      "Found 15 images belonging to 3 classes.\n"
     ]
    }
   ],
   "source": [
    "test_datagen = ImageDataGenerator(rescale = 1 / 255.)\n",
    "test_generator = test_datagen.flow_from_directory(\n",
    "    'handwriting/hard_handwriting_shape/test',\n",
    "    target_size = (24, 24),\n",
    "    batch_size = 3,\n",
    "    class_mode = 'categorical'\n",
    ")"
   ]
  },
  {
   "cell_type": "code",
   "execution_count": 16,
   "metadata": {},
   "outputs": [
    {
     "output_type": "execute_result",
     "data": {
      "text/plain": [
       "array([0, 0, 0, 0, 0, 0, 0, 0, 0, 0, 0, 0, 0, 0, 0, 1, 1, 1, 1, 1, 1, 1,\n",
       "       1, 1, 1, 1, 1, 1, 1, 1, 2, 2, 2, 2, 2, 2, 2, 2, 2, 2, 2, 2, 2, 2,\n",
       "       2], dtype=int32)"
      ]
     },
     "metadata": {},
     "execution_count": 16
    }
   ],
   "source": [
    "train_generator.labels"
   ]
  },
  {
   "cell_type": "code",
   "execution_count": 17,
   "metadata": {},
   "outputs": [
    {
     "output_type": "execute_result",
     "data": {
      "text/plain": [
       "'circle/circle001.png'"
      ]
     },
     "metadata": {},
     "execution_count": 17
    }
   ],
   "source": [
    "train_generator.filenames[0]"
   ]
  },
  {
   "source": [
    "### Processing (model defining / setting / learning)"
   ],
   "cell_type": "markdown",
   "metadata": {}
  },
  {
   "cell_type": "code",
   "execution_count": 18,
   "metadata": {},
   "outputs": [],
   "source": [
    "from tensorflow.keras.models import Sequential\n",
    "from tensorflow.keras.layers import Conv2D, Dense, MaxPooling2D, Flatten"
   ]
  },
  {
   "cell_type": "code",
   "execution_count": 19,
   "metadata": {},
   "outputs": [
    {
     "output_type": "stream",
     "name": "stdout",
     "text": [
      "Model: \"sequential\"\n_________________________________________________________________\nLayer (type)                 Output Shape              Param #   \n=================================================================\nconv2d (Conv2D)              (None, 22, 22, 32)        896       \n_________________________________________________________________\nconv2d_1 (Conv2D)            (None, 20, 20, 64)        18496     \n_________________________________________________________________\nmax_pooling2d (MaxPooling2D) (None, 10, 10, 64)        0         \n_________________________________________________________________\nflatten (Flatten)            (None, 6400)              0         \n_________________________________________________________________\ndense (Dense)                (None, 128)               819328    \n_________________________________________________________________\ndense_1 (Dense)              (None, 3)                 387       \n=================================================================\nTotal params: 839,107\nTrainable params: 839,107\nNon-trainable params: 0\n_________________________________________________________________\n"
     ]
    }
   ],
   "source": [
    "model = Sequential([\n",
    "     Conv2D(32, (3, 3), input_shape = (24, 24, 3), activation = 'relu'),\n",
    "     Conv2D(64, (3, 3), activation = 'relu'),\n",
    "     MaxPooling2D(),\n",
    "     Flatten(),\n",
    "     Dense(128, activation = 'relu'),\n",
    "     Dense(3, activation = 'softmax')\n",
    "])\n",
    "model.summary()"
   ]
  },
  {
   "cell_type": "code",
   "execution_count": 20,
   "metadata": {},
   "outputs": [],
   "source": [
    "model.compile(\n",
    "    optimizer = 'adam', loss = 'categorical_crossentropy', metrics = ['accuracy']\n",
    ")"
   ]
  },
  {
   "cell_type": "code",
   "execution_count": 21,
   "metadata": {
    "tags": [
     "outputPrepend"
    ]
   },
   "outputs": [
    {
     "output_type": "stream",
     "name": "stdout",
     "text": [
      "00\n",
      "15/15 - 0s - loss: 1.1022 - accuracy: 0.3111 - val_loss: 1.0791 - val_accuracy: 0.4667\n",
      "Epoch 3/200\n",
      "15/15 - 0s - loss: 1.0280 - accuracy: 0.4889 - val_loss: 1.1301 - val_accuracy: 0.4667\n",
      "Epoch 4/200\n",
      "15/15 - 0s - loss: 0.8228 - accuracy: 0.6000 - val_loss: 1.1417 - val_accuracy: 0.6000\n",
      "Epoch 5/200\n",
      "15/15 - 0s - loss: 0.6843 - accuracy: 0.7333 - val_loss: 1.4015 - val_accuracy: 0.6667\n",
      "Epoch 6/200\n",
      "15/15 - 0s - loss: 0.9131 - accuracy: 0.5778 - val_loss: 1.0586 - val_accuracy: 0.6667\n",
      "Epoch 7/200\n",
      "15/15 - 0s - loss: 0.7208 - accuracy: 0.7111 - val_loss: 1.4816 - val_accuracy: 0.4000\n",
      "Epoch 8/200\n",
      "15/15 - 0s - loss: 0.7521 - accuracy: 0.6222 - val_loss: 1.0515 - val_accuracy: 0.7333\n",
      "Epoch 9/200\n",
      "15/15 - 0s - loss: 0.6714 - accuracy: 0.7111 - val_loss: 1.0068 - val_accuracy: 0.7333\n",
      "Epoch 10/200\n",
      "15/15 - 0s - loss: 0.4836 - accuracy: 0.8667 - val_loss: 1.0679 - val_accuracy: 0.8000\n",
      "Epoch 11/200\n",
      "15/15 - 0s - loss: 0.4439 - accuracy: 0.8222 - val_loss: 1.0945 - val_accuracy: 0.7333\n",
      "Epoch 12/200\n",
      "15/15 - 0s - loss: 0.4750 - accuracy: 0.8222 - val_loss: 1.0044 - val_accuracy: 0.6667\n",
      "Epoch 13/200\n",
      "15/15 - 0s - loss: 0.2454 - accuracy: 0.9111 - val_loss: 0.8762 - val_accuracy: 0.6667\n",
      "Epoch 14/200\n",
      "15/15 - 0s - loss: 0.2462 - accuracy: 0.9333 - val_loss: 1.0475 - val_accuracy: 0.6667\n",
      "Epoch 15/200\n",
      "15/15 - 0s - loss: 0.1177 - accuracy: 0.9778 - val_loss: 1.1066 - val_accuracy: 0.6667\n",
      "Epoch 16/200\n",
      "15/15 - 0s - loss: 0.2206 - accuracy: 0.9111 - val_loss: 1.6188 - val_accuracy: 0.6000\n",
      "Epoch 17/200\n",
      "15/15 - 0s - loss: 0.5104 - accuracy: 0.8444 - val_loss: 1.1789 - val_accuracy: 0.6000\n",
      "Epoch 18/200\n",
      "15/15 - 0s - loss: 0.2693 - accuracy: 0.9333 - val_loss: 1.2925 - val_accuracy: 0.6000\n",
      "Epoch 19/200\n",
      "15/15 - 0s - loss: 0.2541 - accuracy: 0.9111 - val_loss: 1.5852 - val_accuracy: 0.6000\n",
      "Epoch 20/200\n",
      "15/15 - 0s - loss: 0.1335 - accuracy: 0.9778 - val_loss: 0.9949 - val_accuracy: 0.6667\n",
      "Epoch 21/200\n",
      "15/15 - 0s - loss: 0.0883 - accuracy: 0.9778 - val_loss: 1.2670 - val_accuracy: 0.6000\n",
      "Epoch 22/200\n",
      "15/15 - 0s - loss: 0.1420 - accuracy: 0.9556 - val_loss: 1.2451 - val_accuracy: 0.6000\n",
      "Epoch 23/200\n",
      "15/15 - 0s - loss: 0.2089 - accuracy: 0.9333 - val_loss: 1.2508 - val_accuracy: 0.6667\n",
      "Epoch 24/200\n",
      "15/15 - 0s - loss: 0.1739 - accuracy: 0.9333 - val_loss: 1.3920 - val_accuracy: 0.6667\n",
      "Epoch 25/200\n",
      "15/15 - 0s - loss: 0.2225 - accuracy: 0.8889 - val_loss: 1.2271 - val_accuracy: 0.6667\n",
      "Epoch 26/200\n",
      "15/15 - 0s - loss: 0.1001 - accuracy: 0.9556 - val_loss: 0.7658 - val_accuracy: 0.7333\n",
      "Epoch 27/200\n",
      "15/15 - 0s - loss: 0.0714 - accuracy: 0.9778 - val_loss: 1.0150 - val_accuracy: 0.6667\n",
      "Epoch 28/200\n",
      "15/15 - 0s - loss: 0.1326 - accuracy: 0.9556 - val_loss: 0.7567 - val_accuracy: 0.7333\n",
      "Epoch 29/200\n",
      "15/15 - 0s - loss: 0.1919 - accuracy: 0.9333 - val_loss: 1.5060 - val_accuracy: 0.7333\n",
      "Epoch 30/200\n",
      "15/15 - 0s - loss: 0.3197 - accuracy: 0.8667 - val_loss: 1.5802 - val_accuracy: 0.7333\n",
      "Epoch 31/200\n",
      "15/15 - 0s - loss: 0.1662 - accuracy: 0.9333 - val_loss: 0.9557 - val_accuracy: 0.8000\n",
      "Epoch 32/200\n",
      "15/15 - 0s - loss: 0.1627 - accuracy: 0.8889 - val_loss: 1.3689 - val_accuracy: 0.8000\n",
      "Epoch 33/200\n",
      "15/15 - 0s - loss: 0.0483 - accuracy: 1.0000 - val_loss: 0.9540 - val_accuracy: 0.8000\n",
      "Epoch 34/200\n",
      "15/15 - 0s - loss: 0.1420 - accuracy: 0.9556 - val_loss: 0.9853 - val_accuracy: 0.8000\n",
      "Epoch 35/200\n",
      "15/15 - 0s - loss: 0.1024 - accuracy: 0.9778 - val_loss: 2.4015 - val_accuracy: 0.7333\n",
      "Epoch 36/200\n",
      "15/15 - 0s - loss: 0.0382 - accuracy: 1.0000 - val_loss: 0.9718 - val_accuracy: 0.8000\n",
      "Epoch 37/200\n",
      "15/15 - 0s - loss: 0.1048 - accuracy: 0.9556 - val_loss: 2.5101 - val_accuracy: 0.6667\n",
      "Epoch 38/200\n",
      "15/15 - 0s - loss: 0.0568 - accuracy: 0.9778 - val_loss: 1.1338 - val_accuracy: 0.8000\n",
      "Epoch 39/200\n",
      "15/15 - 0s - loss: 0.0481 - accuracy: 1.0000 - val_loss: 2.0066 - val_accuracy: 0.8000\n",
      "Epoch 40/200\n",
      "15/15 - 0s - loss: 0.1328 - accuracy: 0.9333 - val_loss: 1.2540 - val_accuracy: 0.7333\n",
      "Epoch 41/200\n",
      "15/15 - 0s - loss: 0.0813 - accuracy: 0.9556 - val_loss: 1.3365 - val_accuracy: 0.7333\n",
      "Epoch 42/200\n",
      "15/15 - 0s - loss: 0.0487 - accuracy: 0.9778 - val_loss: 1.6717 - val_accuracy: 0.7333\n",
      "Epoch 43/200\n",
      "15/15 - 0s - loss: 0.1820 - accuracy: 0.9333 - val_loss: 1.4583 - val_accuracy: 0.7333\n",
      "Epoch 44/200\n",
      "15/15 - 0s - loss: 0.0659 - accuracy: 0.9778 - val_loss: 3.5023 - val_accuracy: 0.5333\n",
      "Epoch 45/200\n",
      "15/15 - 0s - loss: 0.2747 - accuracy: 0.9333 - val_loss: 1.3845 - val_accuracy: 0.8000\n",
      "Epoch 46/200\n",
      "15/15 - 0s - loss: 0.1572 - accuracy: 0.9556 - val_loss: 0.9631 - val_accuracy: 0.8000\n",
      "Epoch 47/200\n",
      "15/15 - 0s - loss: 0.1353 - accuracy: 0.9111 - val_loss: 1.0887 - val_accuracy: 0.8000\n",
      "Epoch 48/200\n",
      "15/15 - 0s - loss: 0.0529 - accuracy: 0.9778 - val_loss: 1.3026 - val_accuracy: 0.8000\n",
      "Epoch 49/200\n",
      "15/15 - 0s - loss: 0.0163 - accuracy: 1.0000 - val_loss: 1.6458 - val_accuracy: 0.8000\n",
      "Epoch 50/200\n",
      "15/15 - 0s - loss: 0.0597 - accuracy: 0.9778 - val_loss: 1.4353 - val_accuracy: 0.7333\n",
      "Epoch 51/200\n",
      "15/15 - 0s - loss: 0.0377 - accuracy: 0.9778 - val_loss: 2.6909 - val_accuracy: 0.7333\n",
      "Epoch 52/200\n",
      "15/15 - 0s - loss: 0.0879 - accuracy: 0.9333 - val_loss: 2.1108 - val_accuracy: 0.7333\n",
      "Epoch 53/200\n",
      "15/15 - 0s - loss: 0.0751 - accuracy: 0.9556 - val_loss: 1.1075 - val_accuracy: 0.7333\n",
      "Epoch 54/200\n",
      "15/15 - 0s - loss: 0.2975 - accuracy: 0.8889 - val_loss: 1.7616 - val_accuracy: 0.7333\n",
      "Epoch 55/200\n",
      "15/15 - 0s - loss: 0.0871 - accuracy: 0.9556 - val_loss: 1.6376 - val_accuracy: 0.7333\n",
      "Epoch 56/200\n",
      "15/15 - 0s - loss: 0.0320 - accuracy: 1.0000 - val_loss: 1.9195 - val_accuracy: 0.7333\n",
      "Epoch 57/200\n",
      "15/15 - 0s - loss: 0.1604 - accuracy: 0.8889 - val_loss: 1.4422 - val_accuracy: 0.7333\n",
      "Epoch 58/200\n",
      "15/15 - 0s - loss: 0.0708 - accuracy: 0.9778 - val_loss: 1.9778 - val_accuracy: 0.6667\n",
      "Epoch 59/200\n",
      "15/15 - 0s - loss: 0.0493 - accuracy: 0.9778 - val_loss: 1.9627 - val_accuracy: 0.7333\n",
      "Epoch 60/200\n",
      "15/15 - 0s - loss: 0.0464 - accuracy: 0.9778 - val_loss: 0.8979 - val_accuracy: 0.8000\n",
      "Epoch 61/200\n",
      "15/15 - 0s - loss: 0.0282 - accuracy: 1.0000 - val_loss: 0.9974 - val_accuracy: 0.8000\n",
      "Epoch 62/200\n",
      "15/15 - 0s - loss: 0.1073 - accuracy: 0.9778 - val_loss: 0.7950 - val_accuracy: 0.8000\n",
      "Epoch 63/200\n",
      "15/15 - 0s - loss: 0.1055 - accuracy: 0.9778 - val_loss: 1.2469 - val_accuracy: 0.8000\n",
      "Epoch 64/200\n",
      "15/15 - 0s - loss: 0.0198 - accuracy: 1.0000 - val_loss: 1.5517 - val_accuracy: 0.7333\n",
      "Epoch 65/200\n",
      "15/15 - 0s - loss: 0.0541 - accuracy: 0.9556 - val_loss: 1.4293 - val_accuracy: 0.8000\n",
      "Epoch 66/200\n",
      "15/15 - 0s - loss: 0.1912 - accuracy: 0.9556 - val_loss: 0.6943 - val_accuracy: 0.8000\n",
      "Epoch 67/200\n",
      "15/15 - 0s - loss: 0.2118 - accuracy: 0.9556 - val_loss: 1.1371 - val_accuracy: 0.8000\n",
      "Epoch 68/200\n",
      "15/15 - 0s - loss: 0.0376 - accuracy: 0.9778 - val_loss: 1.1430 - val_accuracy: 0.8000\n",
      "Epoch 69/200\n",
      "15/15 - 0s - loss: 0.0374 - accuracy: 0.9778 - val_loss: 1.6771 - val_accuracy: 0.6667\n",
      "Epoch 70/200\n",
      "15/15 - 0s - loss: 0.0084 - accuracy: 1.0000 - val_loss: 1.9272 - val_accuracy: 0.6667\n",
      "Epoch 71/200\n",
      "15/15 - 0s - loss: 0.0145 - accuracy: 1.0000 - val_loss: 1.6927 - val_accuracy: 0.7333\n",
      "Epoch 72/200\n",
      "15/15 - 0s - loss: 0.0031 - accuracy: 1.0000 - val_loss: 1.6059 - val_accuracy: 0.8000\n",
      "Epoch 73/200\n",
      "15/15 - 0s - loss: 0.0424 - accuracy: 0.9778 - val_loss: 1.2434 - val_accuracy: 0.8000\n",
      "Epoch 74/200\n",
      "15/15 - 0s - loss: 0.0692 - accuracy: 0.9778 - val_loss: 1.6377 - val_accuracy: 0.8000\n",
      "Epoch 75/200\n",
      "15/15 - 0s - loss: 0.0132 - accuracy: 1.0000 - val_loss: 1.7392 - val_accuracy: 0.8000\n",
      "Epoch 76/200\n",
      "15/15 - 0s - loss: 0.1430 - accuracy: 0.9778 - val_loss: 1.7047 - val_accuracy: 0.7333\n",
      "Epoch 77/200\n",
      "15/15 - 0s - loss: 0.0541 - accuracy: 0.9778 - val_loss: 1.4484 - val_accuracy: 0.8000\n",
      "Epoch 78/200\n",
      "15/15 - 0s - loss: 0.0065 - accuracy: 1.0000 - val_loss: 1.6196 - val_accuracy: 0.8000\n",
      "Epoch 79/200\n",
      "15/15 - 0s - loss: 0.0410 - accuracy: 0.9778 - val_loss: 2.4825 - val_accuracy: 0.7333\n",
      "Epoch 80/200\n",
      "15/15 - 0s - loss: 0.0865 - accuracy: 0.9556 - val_loss: 0.9666 - val_accuracy: 0.8000\n",
      "Epoch 81/200\n",
      "15/15 - 0s - loss: 0.0209 - accuracy: 1.0000 - val_loss: 0.9888 - val_accuracy: 0.8667\n",
      "Epoch 82/200\n",
      "15/15 - 0s - loss: 0.0172 - accuracy: 1.0000 - val_loss: 1.3099 - val_accuracy: 0.8000\n",
      "Epoch 83/200\n",
      "15/15 - 0s - loss: 0.0677 - accuracy: 0.9778 - val_loss: 1.1891 - val_accuracy: 0.8000\n",
      "Epoch 84/200\n",
      "15/15 - 0s - loss: 0.0093 - accuracy: 1.0000 - val_loss: 1.2822 - val_accuracy: 0.8000\n",
      "Epoch 85/200\n",
      "15/15 - 0s - loss: 0.0114 - accuracy: 1.0000 - val_loss: 1.3203 - val_accuracy: 0.8000\n",
      "Epoch 86/200\n",
      "15/15 - 0s - loss: 0.0145 - accuracy: 1.0000 - val_loss: 2.3581 - val_accuracy: 0.7333\n",
      "Epoch 87/200\n",
      "15/15 - 0s - loss: 0.1033 - accuracy: 0.9556 - val_loss: 1.6905 - val_accuracy: 0.8000\n",
      "Epoch 88/200\n",
      "15/15 - 0s - loss: 0.0949 - accuracy: 0.9778 - val_loss: 2.7319 - val_accuracy: 0.6667\n",
      "Epoch 89/200\n",
      "15/15 - 0s - loss: 0.0766 - accuracy: 0.9778 - val_loss: 2.9597 - val_accuracy: 0.6000\n",
      "Epoch 90/200\n",
      "15/15 - 0s - loss: 0.0193 - accuracy: 1.0000 - val_loss: 1.6537 - val_accuracy: 0.7333\n",
      "Epoch 91/200\n",
      "15/15 - 0s - loss: 0.0409 - accuracy: 0.9778 - val_loss: 2.4669 - val_accuracy: 0.6667\n",
      "Epoch 92/200\n",
      "15/15 - 0s - loss: 0.2034 - accuracy: 0.9556 - val_loss: 1.7024 - val_accuracy: 0.8000\n",
      "Epoch 93/200\n",
      "15/15 - 0s - loss: 0.0969 - accuracy: 0.9556 - val_loss: 1.5312 - val_accuracy: 0.8000\n",
      "Epoch 94/200\n",
      "15/15 - 0s - loss: 0.1072 - accuracy: 0.9556 - val_loss: 1.8442 - val_accuracy: 0.7333\n",
      "Epoch 95/200\n",
      "15/15 - 0s - loss: 0.0542 - accuracy: 0.9778 - val_loss: 1.5967 - val_accuracy: 0.7333\n",
      "Epoch 96/200\n",
      "15/15 - 0s - loss: 0.0086 - accuracy: 1.0000 - val_loss: 1.7409 - val_accuracy: 0.7333\n",
      "Epoch 97/200\n",
      "15/15 - 0s - loss: 0.0114 - accuracy: 1.0000 - val_loss: 1.7441 - val_accuracy: 0.7333\n",
      "Epoch 98/200\n",
      "15/15 - 0s - loss: 0.0571 - accuracy: 0.9778 - val_loss: 2.1215 - val_accuracy: 0.8000\n",
      "Epoch 99/200\n",
      "15/15 - 0s - loss: 0.0080 - accuracy: 1.0000 - val_loss: 1.9617 - val_accuracy: 0.7333\n",
      "Epoch 100/200\n",
      "15/15 - 0s - loss: 0.0220 - accuracy: 0.9778 - val_loss: 1.7444 - val_accuracy: 0.7333\n",
      "Epoch 101/200\n",
      "15/15 - 0s - loss: 0.0250 - accuracy: 0.9778 - val_loss: 1.9158 - val_accuracy: 0.7333\n",
      "Epoch 102/200\n",
      "15/15 - 0s - loss: 0.1387 - accuracy: 0.9333 - val_loss: 1.8739 - val_accuracy: 0.7333\n",
      "Epoch 103/200\n",
      "15/15 - 0s - loss: 0.0731 - accuracy: 0.9556 - val_loss: 2.5056 - val_accuracy: 0.6667\n",
      "Epoch 104/200\n",
      "15/15 - 0s - loss: 0.0236 - accuracy: 1.0000 - val_loss: 2.6730 - val_accuracy: 0.6667\n",
      "Epoch 105/200\n",
      "15/15 - 0s - loss: 0.0894 - accuracy: 0.9778 - val_loss: 2.3671 - val_accuracy: 0.6667\n",
      "Epoch 106/200\n",
      "15/15 - 0s - loss: 0.0055 - accuracy: 1.0000 - val_loss: 2.0481 - val_accuracy: 0.6667\n",
      "Epoch 107/200\n",
      "15/15 - 0s - loss: 0.0735 - accuracy: 0.9778 - val_loss: 1.7361 - val_accuracy: 0.7333\n",
      "Epoch 108/200\n",
      "15/15 - 0s - loss: 0.0635 - accuracy: 0.9778 - val_loss: 1.4946 - val_accuracy: 0.7333\n",
      "Epoch 109/200\n",
      "15/15 - 0s - loss: 0.0684 - accuracy: 0.9778 - val_loss: 1.6361 - val_accuracy: 0.7333\n",
      "Epoch 110/200\n",
      "15/15 - 0s - loss: 0.0510 - accuracy: 0.9778 - val_loss: 2.0337 - val_accuracy: 0.7333\n",
      "Epoch 111/200\n",
      "15/15 - 0s - loss: 0.0758 - accuracy: 0.9778 - val_loss: 1.6384 - val_accuracy: 0.7333\n",
      "Epoch 112/200\n",
      "15/15 - 0s - loss: 0.0409 - accuracy: 0.9778 - val_loss: 1.5546 - val_accuracy: 0.7333\n",
      "Epoch 113/200\n",
      "15/15 - 0s - loss: 0.1127 - accuracy: 0.9556 - val_loss: 1.7432 - val_accuracy: 0.7333\n",
      "Epoch 114/200\n",
      "15/15 - 0s - loss: 0.0484 - accuracy: 0.9778 - val_loss: 1.3157 - val_accuracy: 0.7333\n",
      "Epoch 115/200\n",
      "15/15 - 0s - loss: 0.0968 - accuracy: 0.9556 - val_loss: 1.3843 - val_accuracy: 0.7333\n",
      "Epoch 116/200\n",
      "15/15 - 0s - loss: 0.0207 - accuracy: 1.0000 - val_loss: 1.5789 - val_accuracy: 0.7333\n",
      "Epoch 117/200\n",
      "15/15 - 0s - loss: 0.0358 - accuracy: 0.9778 - val_loss: 1.3363 - val_accuracy: 0.7333\n",
      "Epoch 118/200\n",
      "15/15 - 0s - loss: 0.0029 - accuracy: 1.0000 - val_loss: 1.1561 - val_accuracy: 0.7333\n",
      "Epoch 119/200\n",
      "15/15 - 0s - loss: 0.0097 - accuracy: 1.0000 - val_loss: 1.2672 - val_accuracy: 0.7333\n",
      "Epoch 120/200\n",
      "15/15 - 0s - loss: 0.0023 - accuracy: 1.0000 - val_loss: 1.3626 - val_accuracy: 0.7333\n",
      "Epoch 121/200\n",
      "15/15 - 0s - loss: 0.1368 - accuracy: 0.9778 - val_loss: 1.4601 - val_accuracy: 0.8000\n",
      "Epoch 122/200\n",
      "15/15 - 0s - loss: 0.0077 - accuracy: 1.0000 - val_loss: 1.8213 - val_accuracy: 0.7333\n",
      "Epoch 123/200\n",
      "15/15 - 0s - loss: 0.1890 - accuracy: 0.9333 - val_loss: 1.8575 - val_accuracy: 0.7333\n",
      "Epoch 124/200\n",
      "15/15 - 0s - loss: 0.0136 - accuracy: 1.0000 - val_loss: 1.8446 - val_accuracy: 0.7333\n",
      "Epoch 125/200\n",
      "15/15 - 0s - loss: 0.0248 - accuracy: 0.9778 - val_loss: 1.6582 - val_accuracy: 0.8000\n",
      "Epoch 126/200\n",
      "15/15 - 0s - loss: 0.0849 - accuracy: 0.9556 - val_loss: 1.9328 - val_accuracy: 0.7333\n",
      "Epoch 127/200\n",
      "15/15 - 0s - loss: 0.0063 - accuracy: 1.0000 - val_loss: 2.0805 - val_accuracy: 0.7333\n",
      "Epoch 128/200\n",
      "15/15 - 0s - loss: 0.0135 - accuracy: 1.0000 - val_loss: 1.7668 - val_accuracy: 0.8000\n",
      "Epoch 129/200\n",
      "15/15 - 0s - loss: 0.0057 - accuracy: 1.0000 - val_loss: 1.7100 - val_accuracy: 0.8000\n",
      "Epoch 130/200\n",
      "15/15 - 0s - loss: 0.0776 - accuracy: 0.9556 - val_loss: 2.3197 - val_accuracy: 0.7333\n",
      "Epoch 131/200\n",
      "15/15 - 0s - loss: 0.0239 - accuracy: 0.9778 - val_loss: 1.7433 - val_accuracy: 0.8000\n",
      "Epoch 132/200\n",
      "15/15 - 0s - loss: 0.0232 - accuracy: 1.0000 - val_loss: 1.9810 - val_accuracy: 0.7333\n",
      "Epoch 133/200\n",
      "15/15 - 0s - loss: 0.0123 - accuracy: 1.0000 - val_loss: 1.2289 - val_accuracy: 0.8000\n",
      "Epoch 134/200\n",
      "15/15 - 0s - loss: 0.0046 - accuracy: 1.0000 - val_loss: 1.2505 - val_accuracy: 0.8000\n",
      "Epoch 135/200\n",
      "15/15 - 0s - loss: 0.0063 - accuracy: 1.0000 - val_loss: 1.1855 - val_accuracy: 0.8000\n",
      "Epoch 136/200\n",
      "15/15 - 0s - loss: 7.2078e-04 - accuracy: 1.0000 - val_loss: 1.0871 - val_accuracy: 0.8667\n",
      "Epoch 137/200\n",
      "15/15 - 0s - loss: 0.0075 - accuracy: 1.0000 - val_loss: 1.1043 - val_accuracy: 0.8000\n",
      "Epoch 138/200\n",
      "15/15 - 0s - loss: 0.0031 - accuracy: 1.0000 - val_loss: 1.1068 - val_accuracy: 0.8000\n",
      "Epoch 139/200\n",
      "15/15 - 0s - loss: 0.0038 - accuracy: 1.0000 - val_loss: 1.1111 - val_accuracy: 0.8667\n",
      "Epoch 140/200\n",
      "15/15 - 0s - loss: 0.0062 - accuracy: 1.0000 - val_loss: 1.3960 - val_accuracy: 0.8000\n",
      "Epoch 141/200\n",
      "15/15 - 0s - loss: 0.0022 - accuracy: 1.0000 - val_loss: 1.5627 - val_accuracy: 0.8000\n",
      "Epoch 142/200\n",
      "15/15 - 0s - loss: 0.0534 - accuracy: 0.9556 - val_loss: 1.8906 - val_accuracy: 0.8000\n",
      "Epoch 143/200\n",
      "15/15 - 0s - loss: 0.0593 - accuracy: 0.9778 - val_loss: 1.1986 - val_accuracy: 0.8000\n",
      "Epoch 144/200\n",
      "15/15 - 0s - loss: 0.0012 - accuracy: 1.0000 - val_loss: 1.0456 - val_accuracy: 0.8000\n",
      "Epoch 145/200\n",
      "15/15 - 0s - loss: 0.0041 - accuracy: 1.0000 - val_loss: 1.2350 - val_accuracy: 0.8000\n",
      "Epoch 146/200\n",
      "15/15 - 0s - loss: 4.5270e-04 - accuracy: 1.0000 - val_loss: 1.3001 - val_accuracy: 0.8000\n",
      "Epoch 147/200\n",
      "15/15 - 0s - loss: 0.0068 - accuracy: 1.0000 - val_loss: 1.2753 - val_accuracy: 0.8000\n",
      "Epoch 148/200\n",
      "15/15 - 0s - loss: 0.0072 - accuracy: 1.0000 - val_loss: 1.5711 - val_accuracy: 0.8000\n",
      "Epoch 149/200\n",
      "15/15 - 0s - loss: 0.0425 - accuracy: 0.9778 - val_loss: 2.0332 - val_accuracy: 0.8000\n",
      "Epoch 150/200\n",
      "15/15 - 0s - loss: 0.1038 - accuracy: 0.9333 - val_loss: 1.9784 - val_accuracy: 0.7333\n",
      "Epoch 151/200\n",
      "15/15 - 0s - loss: 0.0028 - accuracy: 1.0000 - val_loss: 2.6347 - val_accuracy: 0.7333\n",
      "Epoch 152/200\n",
      "15/15 - 0s - loss: 0.0307 - accuracy: 1.0000 - val_loss: 1.8610 - val_accuracy: 0.8000\n",
      "Epoch 153/200\n",
      "15/15 - 0s - loss: 0.0136 - accuracy: 1.0000 - val_loss: 2.1906 - val_accuracy: 0.7333\n",
      "Epoch 154/200\n",
      "15/15 - 0s - loss: 0.0092 - accuracy: 1.0000 - val_loss: 2.6512 - val_accuracy: 0.7333\n",
      "Epoch 155/200\n",
      "15/15 - 0s - loss: 0.0894 - accuracy: 0.9778 - val_loss: 2.0583 - val_accuracy: 0.8000\n",
      "Epoch 156/200\n",
      "15/15 - 0s - loss: 0.0262 - accuracy: 0.9778 - val_loss: 2.5397 - val_accuracy: 0.7333\n",
      "Epoch 157/200\n",
      "15/15 - 0s - loss: 0.1697 - accuracy: 0.9556 - val_loss: 1.7689 - val_accuracy: 0.8000\n",
      "Epoch 158/200\n",
      "15/15 - 0s - loss: 0.0122 - accuracy: 1.0000 - val_loss: 1.8268 - val_accuracy: 0.8000\n",
      "Epoch 159/200\n",
      "15/15 - 0s - loss: 0.0028 - accuracy: 1.0000 - val_loss: 1.9624 - val_accuracy: 0.8000\n",
      "Epoch 160/200\n",
      "15/15 - 0s - loss: 0.0046 - accuracy: 1.0000 - val_loss: 2.4030 - val_accuracy: 0.7333\n",
      "Epoch 161/200\n",
      "15/15 - 0s - loss: 0.1531 - accuracy: 0.9333 - val_loss: 2.1798 - val_accuracy: 0.7333\n",
      "Epoch 162/200\n",
      "15/15 - 0s - loss: 0.0016 - accuracy: 1.0000 - val_loss: 2.5690 - val_accuracy: 0.7333\n",
      "Epoch 163/200\n",
      "15/15 - 0s - loss: 0.0040 - accuracy: 1.0000 - val_loss: 2.8835 - val_accuracy: 0.8000\n",
      "Epoch 164/200\n",
      "15/15 - 0s - loss: 5.6481e-04 - accuracy: 1.0000 - val_loss: 3.0170 - val_accuracy: 0.8000\n",
      "Epoch 165/200\n",
      "15/15 - 0s - loss: 0.0551 - accuracy: 0.9778 - val_loss: 3.2067 - val_accuracy: 0.6667\n",
      "Epoch 166/200\n",
      "15/15 - 0s - loss: 0.0330 - accuracy: 0.9778 - val_loss: 2.2547 - val_accuracy: 0.8000\n",
      "Epoch 167/200\n",
      "15/15 - 0s - loss: 0.1296 - accuracy: 0.9333 - val_loss: 4.1224 - val_accuracy: 0.7333\n",
      "Epoch 168/200\n",
      "15/15 - 0s - loss: 0.0613 - accuracy: 0.9778 - val_loss: 2.1569 - val_accuracy: 0.7333\n",
      "Epoch 169/200\n",
      "15/15 - 0s - loss: 0.0178 - accuracy: 1.0000 - val_loss: 1.7663 - val_accuracy: 0.7333\n",
      "Epoch 170/200\n",
      "15/15 - 0s - loss: 0.0138 - accuracy: 1.0000 - val_loss: 2.0117 - val_accuracy: 0.7333\n",
      "Epoch 171/200\n",
      "15/15 - 0s - loss: 0.0019 - accuracy: 1.0000 - val_loss: 2.0782 - val_accuracy: 0.7333\n",
      "Epoch 172/200\n",
      "15/15 - 0s - loss: 4.6942e-04 - accuracy: 1.0000 - val_loss: 2.1366 - val_accuracy: 0.7333\n",
      "Epoch 173/200\n",
      "15/15 - 0s - loss: 0.0052 - accuracy: 1.0000 - val_loss: 2.0671 - val_accuracy: 0.8000\n",
      "Epoch 174/200\n",
      "15/15 - 0s - loss: 0.0574 - accuracy: 0.9778 - val_loss: 2.7512 - val_accuracy: 0.7333\n",
      "Epoch 175/200\n",
      "15/15 - 0s - loss: 0.2130 - accuracy: 0.9778 - val_loss: 2.0475 - val_accuracy: 0.7333\n",
      "Epoch 176/200\n",
      "15/15 - 0s - loss: 0.0295 - accuracy: 0.9778 - val_loss: 2.2985 - val_accuracy: 0.7333\n",
      "Epoch 177/200\n",
      "15/15 - 0s - loss: 0.0182 - accuracy: 1.0000 - val_loss: 1.7904 - val_accuracy: 0.7333\n",
      "Epoch 178/200\n",
      "15/15 - 0s - loss: 0.0058 - accuracy: 1.0000 - val_loss: 2.0669 - val_accuracy: 0.8000\n",
      "Epoch 179/200\n",
      "15/15 - 0s - loss: 0.2551 - accuracy: 0.9556 - val_loss: 2.8316 - val_accuracy: 0.6667\n",
      "Epoch 180/200\n",
      "15/15 - 0s - loss: 0.0224 - accuracy: 0.9778 - val_loss: 3.0375 - val_accuracy: 0.6667\n",
      "Epoch 181/200\n",
      "15/15 - 0s - loss: 0.0167 - accuracy: 1.0000 - val_loss: 1.6281 - val_accuracy: 0.8000\n",
      "Epoch 182/200\n",
      "15/15 - 0s - loss: 0.0086 - accuracy: 1.0000 - val_loss: 1.3114 - val_accuracy: 0.8000\n",
      "Epoch 183/200\n",
      "15/15 - 0s - loss: 0.0012 - accuracy: 1.0000 - val_loss: 1.3139 - val_accuracy: 0.7333\n",
      "Epoch 184/200\n",
      "15/15 - 0s - loss: 0.0087 - accuracy: 1.0000 - val_loss: 1.1246 - val_accuracy: 0.7333\n",
      "Epoch 185/200\n",
      "15/15 - 0s - loss: 0.0152 - accuracy: 1.0000 - val_loss: 1.6436 - val_accuracy: 0.8000\n",
      "Epoch 186/200\n",
      "15/15 - 0s - loss: 0.0780 - accuracy: 0.9778 - val_loss: 1.2381 - val_accuracy: 0.8000\n",
      "Epoch 187/200\n",
      "15/15 - 0s - loss: 0.0527 - accuracy: 0.9778 - val_loss: 1.8244 - val_accuracy: 0.8000\n",
      "Epoch 188/200\n",
      "15/15 - 0s - loss: 0.1008 - accuracy: 0.9556 - val_loss: 1.5128 - val_accuracy: 0.7333\n",
      "Epoch 189/200\n",
      "15/15 - 0s - loss: 0.0512 - accuracy: 0.9556 - val_loss: 1.5329 - val_accuracy: 0.8000\n",
      "Epoch 190/200\n",
      "15/15 - 0s - loss: 0.0041 - accuracy: 1.0000 - val_loss: 1.4378 - val_accuracy: 0.8000\n",
      "Epoch 191/200\n",
      "15/15 - 0s - loss: 0.0368 - accuracy: 0.9778 - val_loss: 2.1570 - val_accuracy: 0.8000\n",
      "Epoch 192/200\n",
      "15/15 - 0s - loss: 0.0092 - accuracy: 1.0000 - val_loss: 1.9593 - val_accuracy: 0.8000\n",
      "Epoch 193/200\n",
      "15/15 - 0s - loss: 0.1107 - accuracy: 0.9778 - val_loss: 1.7757 - val_accuracy: 0.8000\n",
      "Epoch 194/200\n",
      "15/15 - 0s - loss: 0.0154 - accuracy: 1.0000 - val_loss: 1.6245 - val_accuracy: 0.8000\n",
      "Epoch 195/200\n",
      "15/15 - 0s - loss: 0.0071 - accuracy: 1.0000 - val_loss: 1.7315 - val_accuracy: 0.8000\n",
      "Epoch 196/200\n",
      "15/15 - 0s - loss: 0.0210 - accuracy: 1.0000 - val_loss: 1.7857 - val_accuracy: 0.8000\n",
      "Epoch 197/200\n",
      "15/15 - 0s - loss: 0.0280 - accuracy: 1.0000 - val_loss: 1.3778 - val_accuracy: 0.8000\n",
      "Epoch 198/200\n",
      "15/15 - 0s - loss: 0.0156 - accuracy: 1.0000 - val_loss: 1.5035 - val_accuracy: 0.8000\n",
      "Epoch 199/200\n",
      "15/15 - 0s - loss: 0.0196 - accuracy: 1.0000 - val_loss: 1.7559 - val_accuracy: 0.7333\n",
      "Epoch 200/200\n",
      "15/15 - 0s - loss: 0.0143 - accuracy: 1.0000 - val_loss: 1.8443 - val_accuracy: 0.7333\n"
     ]
    },
    {
     "output_type": "execute_result",
     "data": {
      "text/plain": [
       "<tensorflow.python.keras.callbacks.History at 0x16a20e6d0>"
      ]
     },
     "metadata": {},
     "execution_count": 21
    }
   ],
   "source": [
    "model.fit_generator(\n",
    "    train_generator, steps_per_epoch = 15, epochs = 200,\n",
    "    validation_data = test_generator, validation_steps = 5, verbose = 2)"
   ]
  },
  {
   "cell_type": "code",
   "execution_count": 22,
   "metadata": {},
   "outputs": [
    {
     "output_type": "stream",
     "name": "stdout",
     "text": [
      "5/5 [==============================] - 0s 1ms/step - loss: 1.8443 - accuracy: 0.7333\n"
     ]
    },
    {
     "output_type": "execute_result",
     "data": {
      "text/plain": [
       "[1.8442530632019043, 0.7333333492279053]"
      ]
     },
     "metadata": {},
     "execution_count": 22
    }
   ],
   "source": [
    "model.evaluate(test_generator, steps = 5)"
   ]
  }
 ]
}