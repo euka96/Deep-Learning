{
 "metadata": {
  "language_info": {
   "codemirror_mode": {
    "name": "ipython",
    "version": 3
   },
   "file_extension": ".py",
   "mimetype": "text/x-python",
   "name": "python",
   "nbconvert_exporter": "python",
   "pygments_lexer": "ipython3",
   "version": "3.8.5"
  },
  "orig_nbformat": 4,
  "kernelspec": {
   "name": "python3",
   "display_name": "Python 3.8.5 64-bit (conda)"
  },
  "interpreter": {
   "hash": "627b092653e21c8830a264ddb8797a7d90578993b10457a2a9a622cb89e3bc88"
  }
 },
 "nbformat": 4,
 "nbformat_minor": 2,
 "cells": [
  {
   "source": [
    "## Circle, triangle and rectangle"
   ],
   "cell_type": "markdown",
   "metadata": {}
  },
  {
   "cell_type": "code",
   "execution_count": 2,
   "metadata": {},
   "outputs": [],
   "source": [
    "import numpy as np\n",
    "import pandas as pd\n",
    "import tensorflow as tf\n",
    "tf.autograph.set_verbosity(0)\n",
    "import logging\n",
    "logging.getLogger(\"tensorflow\").setLevel(logging.ERROR)\n",
    "\n",
    "seed = 2021\n",
    "np.random.seed(seed)\n",
    "tf.random.set_seed(seed)\n",
    "import warnings\n",
    "warnings.filterwarnings(action = 'ignore')"
   ]
  },
  {
   "source": [
    "### Creating dataset"
   ],
   "cell_type": "markdown",
   "metadata": {}
  },
  {
   "cell_type": "code",
   "execution_count": 4,
   "metadata": {},
   "outputs": [
    {
     "output_type": "stream",
     "name": "stdout",
     "text": [
      "Found 45 images belonging to 3 classes.\n"
     ]
    }
   ],
   "source": [
    "from tensorflow.keras.preprocessing.image import ImageDataGenerator\n",
    "train_datagen = ImageDataGenerator(rescale = 1 / 255.)\n",
    "train_generator = train_datagen.flow_from_directory(\n",
    "    'handwriting/handwriting_shape/train',\n",
    "    target_size = (24, 24),\n",
    "    batch_size = 3,\n",
    "    class_mode = 'categorical'\n",
    ")"
   ]
  },
  {
   "cell_type": "code",
   "execution_count": 6,
   "metadata": {},
   "outputs": [
    {
     "output_type": "stream",
     "name": "stdout",
     "text": [
      "Found 15 images belonging to 3 classes.\n"
     ]
    }
   ],
   "source": [
    "test_datagen = ImageDataGenerator(rescale = 1 / 255.)\n",
    "test_generator = test_datagen.flow_from_directory(\n",
    "    'handwriting/handwriting_shape/test',\n",
    "    target_size = (24, 24),\n",
    "    batch_size = 3,\n",
    "    class_mode = 'categorical'\n",
    ")"
   ]
  },
  {
   "cell_type": "code",
   "execution_count": 8,
   "metadata": {},
   "outputs": [
    {
     "output_type": "execute_result",
     "data": {
      "text/plain": [
       "array([0, 0, 0, 0, 0, 0, 0, 0, 0, 0, 0, 0, 0, 0, 0, 1, 1, 1, 1, 1, 1, 1,\n",
       "       1, 1, 1, 1, 1, 1, 1, 1, 2, 2, 2, 2, 2, 2, 2, 2, 2, 2, 2, 2, 2, 2,\n",
       "       2], dtype=int32)"
      ]
     },
     "metadata": {},
     "execution_count": 8
    }
   ],
   "source": [
    "train_generator.labels"
   ]
  },
  {
   "cell_type": "code",
   "execution_count": 10,
   "metadata": {},
   "outputs": [
    {
     "output_type": "execute_result",
     "data": {
      "text/plain": [
       "'circle/circle001.png'"
      ]
     },
     "metadata": {},
     "execution_count": 10
    }
   ],
   "source": [
    "train_generator.filenames[0]"
   ]
  },
  {
   "source": [
    "### Processing (model defining / setting / learning)"
   ],
   "cell_type": "markdown",
   "metadata": {}
  },
  {
   "cell_type": "code",
   "execution_count": 12,
   "metadata": {},
   "outputs": [],
   "source": [
    "from tensorflow.keras.models import Sequential\n",
    "from tensorflow.keras.layers import Conv2D, Dense, MaxPooling2D, Flatten"
   ]
  },
  {
   "cell_type": "code",
   "execution_count": 14,
   "metadata": {},
   "outputs": [
    {
     "output_type": "stream",
     "name": "stdout",
     "text": [
      "Model: \"sequential_1\"\n_________________________________________________________________\nLayer (type)                 Output Shape              Param #   \n=================================================================\nconv2d_2 (Conv2D)            (None, 22, 22, 32)        896       \n_________________________________________________________________\nconv2d_3 (Conv2D)            (None, 20, 20, 64)        18496     \n_________________________________________________________________\nmax_pooling2d_1 (MaxPooling2 (None, 10, 10, 64)        0         \n_________________________________________________________________\nflatten_1 (Flatten)          (None, 6400)              0         \n_________________________________________________________________\ndense_2 (Dense)              (None, 128)               819328    \n_________________________________________________________________\ndense_3 (Dense)              (None, 3)                 387       \n=================================================================\nTotal params: 839,107\nTrainable params: 839,107\nNon-trainable params: 0\n_________________________________________________________________\n"
     ]
    }
   ],
   "source": [
    "model = Sequential([\n",
    "     Conv2D(32, (3, 3), input_shape = (24, 24, 3), activation = 'relu'),\n",
    "     Conv2D(64, (3, 3), activation = 'relu'),\n",
    "     MaxPooling2D(),\n",
    "     Flatten(),\n",
    "     Dense(128, activation = 'relu'),\n",
    "     Dense(3, activation = 'softmax')\n",
    "])\n",
    "model.summary()"
   ]
  },
  {
   "cell_type": "code",
   "execution_count": 16,
   "metadata": {},
   "outputs": [],
   "source": [
    "model.compile(\n",
    "    optimizer = 'adam', loss = 'categorical_crossentropy', metrics = ['accuracy']\n",
    ")"
   ]
  },
  {
   "cell_type": "code",
   "execution_count": 18,
   "metadata": {},
   "outputs": [
    {
     "output_type": "stream",
     "name": "stdout",
     "text": [
      "Epoch 1/100\n",
      "15/15 [==============================] - 0s 5ms/step - loss: 1.1444e-06 - accuracy: 1.0000 - val_loss: 0.0294 - val_accuracy: 1.0000\n",
      "Epoch 2/100\n",
      "15/15 [==============================] - 0s 4ms/step - loss: 1.1179e-06 - accuracy: 1.0000 - val_loss: 0.0294 - val_accuracy: 1.0000\n",
      "Epoch 3/100\n",
      "15/15 [==============================] - 0s 4ms/step - loss: 1.0941e-06 - accuracy: 1.0000 - val_loss: 0.0297 - val_accuracy: 1.0000\n",
      "Epoch 4/100\n",
      "15/15 [==============================] - 0s 4ms/step - loss: 1.0596e-06 - accuracy: 1.0000 - val_loss: 0.0290 - val_accuracy: 1.0000\n",
      "Epoch 5/100\n",
      "15/15 [==============================] - 0s 4ms/step - loss: 1.0411e-06 - accuracy: 1.0000 - val_loss: 0.0291 - val_accuracy: 1.0000\n",
      "Epoch 6/100\n",
      "15/15 [==============================] - 0s 4ms/step - loss: 1.0225e-06 - accuracy: 1.0000 - val_loss: 0.0285 - val_accuracy: 1.0000\n",
      "Epoch 7/100\n",
      "15/15 [==============================] - 0s 4ms/step - loss: 1.0040e-06 - accuracy: 1.0000 - val_loss: 0.0291 - val_accuracy: 1.0000\n",
      "Epoch 8/100\n",
      "15/15 [==============================] - 0s 4ms/step - loss: 9.8016e-07 - accuracy: 1.0000 - val_loss: 0.0285 - val_accuracy: 1.0000\n",
      "Epoch 9/100\n",
      "15/15 [==============================] - 0s 4ms/step - loss: 9.5897e-07 - accuracy: 1.0000 - val_loss: 0.0285 - val_accuracy: 1.0000\n",
      "Epoch 10/100\n",
      "15/15 [==============================] - 0s 4ms/step - loss: 9.3248e-07 - accuracy: 1.0000 - val_loss: 0.0285 - val_accuracy: 1.0000\n",
      "Epoch 11/100\n",
      "15/15 [==============================] - 0s 4ms/step - loss: 9.1923e-07 - accuracy: 1.0000 - val_loss: 0.0282 - val_accuracy: 1.0000\n",
      "Epoch 12/100\n",
      "15/15 [==============================] - 0s 4ms/step - loss: 9.0599e-07 - accuracy: 1.0000 - val_loss: 0.0287 - val_accuracy: 1.0000\n",
      "Epoch 13/100\n",
      "15/15 [==============================] - 0s 4ms/step - loss: 8.7685e-07 - accuracy: 1.0000 - val_loss: 0.0282 - val_accuracy: 1.0000\n",
      "Epoch 14/100\n",
      "15/15 [==============================] - 0s 6ms/step - loss: 8.6625e-07 - accuracy: 1.0000 - val_loss: 0.0275 - val_accuracy: 1.0000\n",
      "Epoch 15/100\n",
      "15/15 [==============================] - 0s 4ms/step - loss: 8.3446e-07 - accuracy: 1.0000 - val_loss: 0.0277 - val_accuracy: 1.0000\n",
      "Epoch 16/100\n",
      "15/15 [==============================] - 0s 4ms/step - loss: 8.1857e-07 - accuracy: 1.0000 - val_loss: 0.0278 - val_accuracy: 1.0000\n",
      "Epoch 17/100\n",
      "15/15 [==============================] - 0s 4ms/step - loss: 8.0532e-07 - accuracy: 1.0000 - val_loss: 0.0276 - val_accuracy: 1.0000\n",
      "Epoch 18/100\n",
      "15/15 [==============================] - 0s 4ms/step - loss: 7.8678e-07 - accuracy: 1.0000 - val_loss: 0.0275 - val_accuracy: 1.0000\n",
      "Epoch 19/100\n",
      "15/15 [==============================] - 0s 4ms/step - loss: 7.6824e-07 - accuracy: 1.0000 - val_loss: 0.0276 - val_accuracy: 1.0000\n",
      "Epoch 20/100\n",
      "15/15 [==============================] - 0s 4ms/step - loss: 7.5234e-07 - accuracy: 1.0000 - val_loss: 0.0276 - val_accuracy: 1.0000\n",
      "Epoch 21/100\n",
      "15/15 [==============================] - 0s 4ms/step - loss: 7.3380e-07 - accuracy: 1.0000 - val_loss: 0.0276 - val_accuracy: 1.0000\n",
      "Epoch 22/100\n",
      "15/15 [==============================] - 0s 4ms/step - loss: 7.2585e-07 - accuracy: 1.0000 - val_loss: 0.0274 - val_accuracy: 1.0000\n",
      "Epoch 23/100\n",
      "15/15 [==============================] - 0s 4ms/step - loss: 7.0996e-07 - accuracy: 1.0000 - val_loss: 0.0277 - val_accuracy: 1.0000\n",
      "Epoch 24/100\n",
      "15/15 [==============================] - 0s 4ms/step - loss: 7.0466e-07 - accuracy: 1.0000 - val_loss: 0.0272 - val_accuracy: 1.0000\n",
      "Epoch 25/100\n",
      "15/15 [==============================] - 0s 4ms/step - loss: 6.8611e-07 - accuracy: 1.0000 - val_loss: 0.0277 - val_accuracy: 1.0000\n",
      "Epoch 26/100\n",
      "15/15 [==============================] - 0s 4ms/step - loss: 6.7552e-07 - accuracy: 1.0000 - val_loss: 0.0274 - val_accuracy: 1.0000\n",
      "Epoch 27/100\n",
      "15/15 [==============================] - 0s 4ms/step - loss: 6.4903e-07 - accuracy: 1.0000 - val_loss: 0.0272 - val_accuracy: 1.0000\n",
      "Epoch 28/100\n",
      "15/15 [==============================] - 0s 4ms/step - loss: 6.3843e-07 - accuracy: 1.0000 - val_loss: 0.0271 - val_accuracy: 1.0000\n",
      "Epoch 29/100\n",
      "15/15 [==============================] - 0s 4ms/step - loss: 6.2783e-07 - accuracy: 1.0000 - val_loss: 0.0272 - val_accuracy: 1.0000\n",
      "Epoch 30/100\n",
      "15/15 [==============================] - 0s 4ms/step - loss: 6.1724e-07 - accuracy: 1.0000 - val_loss: 0.0271 - val_accuracy: 1.0000\n",
      "Epoch 31/100\n",
      "15/15 [==============================] - 0s 4ms/step - loss: 6.0399e-07 - accuracy: 1.0000 - val_loss: 0.0269 - val_accuracy: 1.0000\n",
      "Epoch 32/100\n",
      "15/15 [==============================] - 0s 4ms/step - loss: 5.9075e-07 - accuracy: 1.0000 - val_loss: 0.0268 - val_accuracy: 1.0000\n",
      "Epoch 33/100\n",
      "15/15 [==============================] - 0s 4ms/step - loss: 5.8015e-07 - accuracy: 1.0000 - val_loss: 0.0267 - val_accuracy: 1.0000\n",
      "Epoch 34/100\n",
      "15/15 [==============================] - 0s 4ms/step - loss: 5.7485e-07 - accuracy: 1.0000 - val_loss: 0.0267 - val_accuracy: 1.0000\n",
      "Epoch 35/100\n",
      "15/15 [==============================] - 0s 5ms/step - loss: 5.6426e-07 - accuracy: 1.0000 - val_loss: 0.0269 - val_accuracy: 1.0000\n",
      "Epoch 36/100\n",
      "15/15 [==============================] - 0s 4ms/step - loss: 5.5101e-07 - accuracy: 1.0000 - val_loss: 0.0265 - val_accuracy: 1.0000\n",
      "Epoch 37/100\n",
      "15/15 [==============================] - 0s 4ms/step - loss: 5.3777e-07 - accuracy: 1.0000 - val_loss: 0.0266 - val_accuracy: 1.0000\n",
      "Epoch 38/100\n",
      "15/15 [==============================] - 0s 4ms/step - loss: 5.2982e-07 - accuracy: 1.0000 - val_loss: 0.0263 - val_accuracy: 1.0000\n",
      "Epoch 39/100\n",
      "15/15 [==============================] - 0s 4ms/step - loss: 5.2187e-07 - accuracy: 1.0000 - val_loss: 0.0263 - val_accuracy: 1.0000\n",
      "Epoch 40/100\n",
      "15/15 [==============================] - 0s 4ms/step - loss: 5.1392e-07 - accuracy: 1.0000 - val_loss: 0.0264 - val_accuracy: 1.0000\n",
      "Epoch 41/100\n",
      "15/15 [==============================] - 0s 4ms/step - loss: 5.0333e-07 - accuracy: 1.0000 - val_loss: 0.0264 - val_accuracy: 1.0000\n",
      "Epoch 42/100\n",
      "15/15 [==============================] - 0s 4ms/step - loss: 4.9803e-07 - accuracy: 1.0000 - val_loss: 0.0262 - val_accuracy: 1.0000\n",
      "Epoch 43/100\n",
      "15/15 [==============================] - 0s 4ms/step - loss: 4.8743e-07 - accuracy: 1.0000 - val_loss: 0.0264 - val_accuracy: 1.0000\n",
      "Epoch 44/100\n",
      "15/15 [==============================] - 0s 4ms/step - loss: 4.7949e-07 - accuracy: 1.0000 - val_loss: 0.0261 - val_accuracy: 1.0000\n",
      "Epoch 45/100\n",
      "15/15 [==============================] - 0s 4ms/step - loss: 4.6624e-07 - accuracy: 1.0000 - val_loss: 0.0262 - val_accuracy: 1.0000\n",
      "Epoch 46/100\n",
      "15/15 [==============================] - 0s 4ms/step - loss: 4.6624e-07 - accuracy: 1.0000 - val_loss: 0.0261 - val_accuracy: 1.0000\n",
      "Epoch 47/100\n",
      "15/15 [==============================] - 0s 4ms/step - loss: 4.5564e-07 - accuracy: 1.0000 - val_loss: 0.0260 - val_accuracy: 1.0000\n",
      "Epoch 48/100\n",
      "15/15 [==============================] - 0s 4ms/step - loss: 4.5035e-07 - accuracy: 1.0000 - val_loss: 0.0263 - val_accuracy: 1.0000\n",
      "Epoch 49/100\n",
      "15/15 [==============================] - 0s 4ms/step - loss: 4.4770e-07 - accuracy: 1.0000 - val_loss: 0.0259 - val_accuracy: 1.0000\n",
      "Epoch 50/100\n",
      "15/15 [==============================] - 0s 4ms/step - loss: 4.2915e-07 - accuracy: 1.0000 - val_loss: 0.0260 - val_accuracy: 1.0000\n",
      "Epoch 51/100\n",
      "15/15 [==============================] - 0s 4ms/step - loss: 4.2385e-07 - accuracy: 1.0000 - val_loss: 0.0258 - val_accuracy: 1.0000\n",
      "Epoch 52/100\n",
      "15/15 [==============================] - 0s 4ms/step - loss: 4.1591e-07 - accuracy: 1.0000 - val_loss: 0.0257 - val_accuracy: 1.0000\n",
      "Epoch 53/100\n",
      "15/15 [==============================] - 0s 4ms/step - loss: 4.1061e-07 - accuracy: 1.0000 - val_loss: 0.0258 - val_accuracy: 1.0000\n",
      "Epoch 54/100\n",
      "15/15 [==============================] - 0s 4ms/step - loss: 4.0796e-07 - accuracy: 1.0000 - val_loss: 0.0259 - val_accuracy: 1.0000\n",
      "Epoch 55/100\n",
      "15/15 [==============================] - 0s 4ms/step - loss: 4.0001e-07 - accuracy: 1.0000 - val_loss: 0.0257 - val_accuracy: 1.0000\n",
      "Epoch 56/100\n",
      "15/15 [==============================] - 0s 4ms/step - loss: 3.8942e-07 - accuracy: 1.0000 - val_loss: 0.0256 - val_accuracy: 1.0000\n",
      "Epoch 57/100\n",
      "15/15 [==============================] - 0s 4ms/step - loss: 3.7617e-07 - accuracy: 1.0000 - val_loss: 0.0257 - val_accuracy: 1.0000\n",
      "Epoch 58/100\n",
      "15/15 [==============================] - 0s 4ms/step - loss: 3.7352e-07 - accuracy: 1.0000 - val_loss: 0.0257 - val_accuracy: 1.0000\n",
      "Epoch 59/100\n",
      "15/15 [==============================] - 0s 4ms/step - loss: 3.7352e-07 - accuracy: 1.0000 - val_loss: 0.0252 - val_accuracy: 1.0000\n",
      "Epoch 60/100\n",
      "15/15 [==============================] - 0s 4ms/step - loss: 3.6822e-07 - accuracy: 1.0000 - val_loss: 0.0254 - val_accuracy: 1.0000\n",
      "Epoch 61/100\n",
      "15/15 [==============================] - 0s 4ms/step - loss: 3.6293e-07 - accuracy: 1.0000 - val_loss: 0.0251 - val_accuracy: 1.0000\n",
      "Epoch 62/100\n",
      "15/15 [==============================] - 0s 4ms/step - loss: 3.5763e-07 - accuracy: 1.0000 - val_loss: 0.0255 - val_accuracy: 1.0000\n",
      "Epoch 63/100\n",
      "15/15 [==============================] - 0s 4ms/step - loss: 3.4968e-07 - accuracy: 1.0000 - val_loss: 0.0252 - val_accuracy: 1.0000\n",
      "Epoch 64/100\n",
      "15/15 [==============================] - 0s 4ms/step - loss: 3.4438e-07 - accuracy: 1.0000 - val_loss: 0.0252 - val_accuracy: 1.0000\n",
      "Epoch 65/100\n",
      "15/15 [==============================] - 0s 5ms/step - loss: 3.3908e-07 - accuracy: 1.0000 - val_loss: 0.0256 - val_accuracy: 1.0000\n",
      "Epoch 66/100\n",
      "15/15 [==============================] - 0s 4ms/step - loss: 3.3643e-07 - accuracy: 1.0000 - val_loss: 0.0250 - val_accuracy: 1.0000\n",
      "Epoch 67/100\n",
      "15/15 [==============================] - 0s 4ms/step - loss: 3.2849e-07 - accuracy: 1.0000 - val_loss: 0.0249 - val_accuracy: 1.0000\n",
      "Epoch 68/100\n",
      "15/15 [==============================] - 0s 4ms/step - loss: 3.2849e-07 - accuracy: 1.0000 - val_loss: 0.0248 - val_accuracy: 1.0000\n",
      "Epoch 69/100\n",
      "15/15 [==============================] - 0s 4ms/step - loss: 3.2319e-07 - accuracy: 1.0000 - val_loss: 0.0251 - val_accuracy: 1.0000\n",
      "Epoch 70/100\n",
      "15/15 [==============================] - 0s 4ms/step - loss: 3.1524e-07 - accuracy: 1.0000 - val_loss: 0.0248 - val_accuracy: 1.0000\n",
      "Epoch 71/100\n",
      "15/15 [==============================] - 0s 4ms/step - loss: 3.1259e-07 - accuracy: 1.0000 - val_loss: 0.0247 - val_accuracy: 1.0000\n",
      "Epoch 72/100\n",
      "15/15 [==============================] - 0s 4ms/step - loss: 3.0465e-07 - accuracy: 1.0000 - val_loss: 0.0249 - val_accuracy: 1.0000\n",
      "Epoch 73/100\n",
      "15/15 [==============================] - 0s 4ms/step - loss: 2.9935e-07 - accuracy: 1.0000 - val_loss: 0.0246 - val_accuracy: 1.0000\n",
      "Epoch 74/100\n",
      "15/15 [==============================] - 0s 4ms/step - loss: 2.9670e-07 - accuracy: 1.0000 - val_loss: 0.0248 - val_accuracy: 1.0000\n",
      "Epoch 75/100\n",
      "15/15 [==============================] - 0s 4ms/step - loss: 2.9140e-07 - accuracy: 1.0000 - val_loss: 0.0247 - val_accuracy: 1.0000\n",
      "Epoch 76/100\n",
      "15/15 [==============================] - 0s 4ms/step - loss: 2.8610e-07 - accuracy: 1.0000 - val_loss: 0.0245 - val_accuracy: 1.0000\n",
      "Epoch 77/100\n",
      "15/15 [==============================] - 0s 4ms/step - loss: 2.8080e-07 - accuracy: 1.0000 - val_loss: 0.0244 - val_accuracy: 1.0000\n",
      "Epoch 78/100\n",
      "15/15 [==============================] - 0s 4ms/step - loss: 2.8080e-07 - accuracy: 1.0000 - val_loss: 0.0247 - val_accuracy: 1.0000\n",
      "Epoch 79/100\n",
      "15/15 [==============================] - 0s 5ms/step - loss: 2.7286e-07 - accuracy: 1.0000 - val_loss: 0.0244 - val_accuracy: 1.0000\n",
      "Epoch 80/100\n",
      "15/15 [==============================] - 0s 4ms/step - loss: 2.6756e-07 - accuracy: 1.0000 - val_loss: 0.0244 - val_accuracy: 1.0000\n",
      "Epoch 81/100\n",
      "15/15 [==============================] - 0s 4ms/step - loss: 2.5961e-07 - accuracy: 1.0000 - val_loss: 0.0244 - val_accuracy: 1.0000\n",
      "Epoch 82/100\n",
      "15/15 [==============================] - 0s 4ms/step - loss: 2.5961e-07 - accuracy: 1.0000 - val_loss: 0.0244 - val_accuracy: 1.0000\n",
      "Epoch 83/100\n",
      "15/15 [==============================] - 0s 4ms/step - loss: 2.5166e-07 - accuracy: 1.0000 - val_loss: 0.0242 - val_accuracy: 1.0000\n",
      "Epoch 84/100\n",
      "15/15 [==============================] - 0s 4ms/step - loss: 2.4901e-07 - accuracy: 1.0000 - val_loss: 0.0244 - val_accuracy: 1.0000\n",
      "Epoch 85/100\n",
      "15/15 [==============================] - 0s 4ms/step - loss: 2.4372e-07 - accuracy: 1.0000 - val_loss: 0.0243 - val_accuracy: 1.0000\n",
      "Epoch 86/100\n",
      "15/15 [==============================] - 0s 4ms/step - loss: 2.3842e-07 - accuracy: 1.0000 - val_loss: 0.0242 - val_accuracy: 1.0000\n",
      "Epoch 87/100\n",
      "15/15 [==============================] - 0s 4ms/step - loss: 2.3577e-07 - accuracy: 1.0000 - val_loss: 0.0240 - val_accuracy: 1.0000\n",
      "Epoch 88/100\n",
      "15/15 [==============================] - 0s 4ms/step - loss: 2.3577e-07 - accuracy: 1.0000 - val_loss: 0.0241 - val_accuracy: 1.0000\n",
      "Epoch 89/100\n",
      "15/15 [==============================] - 0s 4ms/step - loss: 2.3312e-07 - accuracy: 1.0000 - val_loss: 0.0239 - val_accuracy: 1.0000\n",
      "Epoch 90/100\n",
      "15/15 [==============================] - 0s 4ms/step - loss: 2.3047e-07 - accuracy: 1.0000 - val_loss: 0.0240 - val_accuracy: 1.0000\n",
      "Epoch 91/100\n",
      "15/15 [==============================] - 0s 4ms/step - loss: 2.3047e-07 - accuracy: 1.0000 - val_loss: 0.0237 - val_accuracy: 1.0000\n",
      "Epoch 92/100\n",
      "15/15 [==============================] - 0s 4ms/step - loss: 2.2782e-07 - accuracy: 1.0000 - val_loss: 0.0238 - val_accuracy: 1.0000\n",
      "Epoch 93/100\n",
      "15/15 [==============================] - 0s 4ms/step - loss: 2.2252e-07 - accuracy: 1.0000 - val_loss: 0.0237 - val_accuracy: 1.0000\n",
      "Epoch 94/100\n",
      "15/15 [==============================] - 0s 5ms/step - loss: 2.1723e-07 - accuracy: 1.0000 - val_loss: 0.0236 - val_accuracy: 1.0000\n",
      "Epoch 95/100\n",
      "15/15 [==============================] - 0s 4ms/step - loss: 2.1723e-07 - accuracy: 1.0000 - val_loss: 0.0236 - val_accuracy: 1.0000\n",
      "Epoch 96/100\n",
      "15/15 [==============================] - 0s 4ms/step - loss: 2.1458e-07 - accuracy: 1.0000 - val_loss: 0.0238 - val_accuracy: 1.0000\n",
      "Epoch 97/100\n",
      "15/15 [==============================] - 0s 4ms/step - loss: 2.1193e-07 - accuracy: 1.0000 - val_loss: 0.0239 - val_accuracy: 1.0000\n",
      "Epoch 98/100\n",
      "15/15 [==============================] - 0s 4ms/step - loss: 2.0663e-07 - accuracy: 1.0000 - val_loss: 0.0237 - val_accuracy: 1.0000\n",
      "Epoch 99/100\n",
      "15/15 [==============================] - 0s 4ms/step - loss: 2.0663e-07 - accuracy: 1.0000 - val_loss: 0.0236 - val_accuracy: 1.0000\n",
      "Epoch 100/100\n",
      "15/15 [==============================] - 0s 4ms/step - loss: 2.0663e-07 - accuracy: 1.0000 - val_loss: 0.0236 - val_accuracy: 1.0000\n"
     ]
    },
    {
     "output_type": "execute_result",
     "data": {
      "text/plain": [
       "<tensorflow.python.keras.callbacks.History at 0x136323e50>"
      ]
     },
     "metadata": {},
     "execution_count": 18
    }
   ],
   "source": [
    "model.fit_generator(\n",
    "    train_generator, steps_per_epoch = 15, epochs = 100, validation_data = test_generator, validation_steps = 5)"
   ]
  },
  {
   "cell_type": "code",
   "execution_count": 20,
   "metadata": {},
   "outputs": [
    {
     "output_type": "stream",
     "name": "stdout",
     "text": [
      "5/5 [==============================] - 0s 1ms/step - loss: 0.0236 - accuracy: 1.0000\n"
     ]
    },
    {
     "output_type": "execute_result",
     "data": {
      "text/plain": [
       "[0.023554539307951927, 1.0]"
      ]
     },
     "metadata": {},
     "execution_count": 20
    }
   ],
   "source": [
    "model.evaluate(test_generator, steps = 5)"
   ]
  }
 ]
}